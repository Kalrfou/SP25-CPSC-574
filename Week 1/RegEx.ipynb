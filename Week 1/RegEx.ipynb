{
 "cells": [
  {
   "cell_type": "markdown",
   "id": "92d50c46-fcf4-4aa9-a0fb-e7373a852a25",
   "metadata": {},
   "source": [
    "# Regular Expression #\n",
    "A Regular Expression (RegEx) is a specialized sequence of characters designed to identify and match specific patterns within a string or a group of strings.\n",
    "<table>\n",
    "    <thead>\n",
    "        <tr>\n",
    "            <th>function</th> <th>Description</th>\n",
    "        </tr>\n",
    "    </thead>\n",
    "    <tbody>\n",
    "        <tr>\n",
    "        <td>findall</td> <td>Returns a list containg all matches</td>\n",
    "        </tr>\n",
    "        <tr>\n",
    "            <td>Search</td> <td> Returns a match object if there is a match anywhere in the string</td>\n",
    "        </tr>\n",
    "    </tbody>\n",
    "</table>"
   ]
  },
  {
   "cell_type": "code",
   "execution_count": 1,
   "id": "a8d1a118-b63e-4455-a4c1-b2911335a931",
   "metadata": {},
   "outputs": [],
   "source": [
    "import re"
   ]
  },
  {
   "cell_type": "code",
   "execution_count": 2,
   "id": "123f10a7-c838-4485-80ed-c3d5e28ce4a6",
   "metadata": {},
   "outputs": [],
   "source": [
    "text_lwisu=\"\"\"Since 1932, Lewis University has been grounded in intentionality, guided by truth, and inspired by innovation. \n",
    "We’ve built a learning environment that creates critical thinkers who take on new knowledge and ask the big questions.\n",
    "We welcome students of all beliefs and backgrounds and encourage them to create a better and more just society.\n",
    "You can land anywhere from here.\n",
    "Contact us:1 University Parkway\n",
    "\n",
    "Romeoville, IL 60446\n",
    "\n",
    "(815)-838-0500· (800)-897-9000\n",
    "\n",
    "Webmaster@lewisu.edu\n",
    "\n",
    "Lasallian Education\"\"\""
   ]
  },
  {
   "cell_type": "code",
   "execution_count": 3,
   "id": "1cf565fe-1abc-4f84-8b92-3eeb98b70cac",
   "metadata": {},
   "outputs": [
    {
     "data": {
      "text/plain": [
       "True"
      ]
     },
     "execution_count": 3,
     "metadata": {},
     "output_type": "execute_result"
    }
   ],
   "source": [
    "\"(815)-838-0500\" in text_lwisu"
   ]
  },
  {
   "cell_type": "code",
   "execution_count": 4,
   "id": "e3dc8749-76af-417a-b4ef-c36320f559d5",
   "metadata": {},
   "outputs": [
    {
     "name": "stdout",
     "output_type": "stream",
     "text": [
      "['1932', '60446', '815', '838', '0500', '800', '897', '9000']\n"
     ]
    }
   ],
   "source": [
    "match=re.findall(r'\\d{5}|\\d{4}|\\d{3}',text_lwisu)\n",
    "print(match)"
   ]
  },
  {
   "cell_type": "code",
   "execution_count": 219,
   "id": "41ccb927-7078-4943-9db0-f9618a794adc",
   "metadata": {},
   "outputs": [
    {
     "data": {
      "text/plain": [
       "'1932 60446 815 838 0500 800 897 9000'"
      ]
     },
     "execution_count": 219,
     "metadata": {},
     "output_type": "execute_result"
    }
   ],
   "source": [
    "\" \".join(match)"
   ]
  },
  {
   "cell_type": "markdown",
   "id": "e7b93586-fc62-4963-92f7-13789a963d27",
   "metadata": {},
   "source": [
    "## Find only phone numbers ##"
   ]
  },
  {
   "cell_type": "code",
   "execution_count": 5,
   "id": "700e3370-9ef2-4ef0-a472-a2e9755ecc93",
   "metadata": {},
   "outputs": [
    {
     "name": "stdout",
     "output_type": "stream",
     "text": [
      "['(815)-838-0500', '(800)-897-9000']\n"
     ]
    }
   ],
   "source": [
    "pattern=r'[(\\d{3})]+-\\d{3}-\\d{4}'\n",
    "finds=re.findall(pattern,text_lwisu)\n",
    "print(finds)"
   ]
  },
  {
   "cell_type": "markdown",
   "id": "1b884076-16d2-4528-80ed-0b37f79c43b3",
   "metadata": {},
   "source": [
    "### Get sparate gruop of the phone number ###\n",
    "We used parentheses to sparate the phone number into groups"
   ]
  },
  {
   "cell_type": "code",
   "execution_count": 7,
   "id": "9e6904d3-d8c8-44ae-9b16-1677fae0641b",
   "metadata": {},
   "outputs": [
    {
     "data": {
      "text/plain": [
       "'444-350-0563'"
      ]
     },
     "execution_count": 7,
     "metadata": {},
     "output_type": "execute_result"
    }
   ],
   "source": [
    "sent=\"this is my phone number 444-350-0563, call me soon!\"\n",
    "pattern=r'\\d{3}+-\\d{3}-\\d{4}'\n",
    "finds=re.search(pattern,sent)\n",
    "finds.group()"
   ]
  },
  {
   "cell_type": "code",
   "execution_count": 92,
   "id": "f862a8eb-2259-46f4-b9fd-5c00a13eecc0",
   "metadata": {},
   "outputs": [
    {
     "data": {
      "text/plain": [
       "'444-350-0563'"
      ]
     },
     "execution_count": 92,
     "metadata": {},
     "output_type": "execute_result"
    }
   ],
   "source": [
    "sent=\"this is my phone number 444-350-0563, contact me soon!\"\n",
    "pattern=r'(\\d{3})+-(\\d{3})-(\\d{4})'\n",
    "finds=re.search(pattern,sent)\n",
    "finds.group()"
   ]
  },
  {
   "cell_type": "code",
   "execution_count": 221,
   "id": "48fb0f70-e320-47a4-b28c-cc772059096a",
   "metadata": {},
   "outputs": [
    {
     "data": {
      "text/plain": [
       "['welcome', 'Webmaster']"
      ]
     },
     "execution_count": 221,
     "metadata": {},
     "output_type": "execute_result"
    }
   ],
   "source": [
    "match2=re.findall(r'[Ww]e\\w+',text_lwisu)\n",
    "match2"
   ]
  },
  {
   "cell_type": "code",
   "execution_count": 222,
   "id": "6aa88a35-540b-494c-88f8-8e02280d3bbb",
   "metadata": {},
   "outputs": [
    {
     "data": {
      "text/plain": [
       "['innovat', 'that', 'creat', 'creat', 'Educat']"
      ]
     },
     "execution_count": 222,
     "metadata": {},
     "output_type": "execute_result"
    }
   ],
   "source": [
    "re.findall(r\"\\w+at\",text_lwisu)"
   ]
  },
  {
   "cell_type": "markdown",
   "id": "b3c3bcee-2f21-4221-96f4-bc0e72183bad",
   "metadata": {},
   "source": [
    "## Find email address ##\n",
    "<font color=black>This example demonstrates email validation using <b>regular expressions</b>, a common yet critical application in web development. Verifying properly formatted emails is essential for any website with user authentication systems, as it ensures data quality and prevents invalid submissions during sign-up or login processes.</font>"
   ]
  },
  {
   "cell_type": "code",
   "execution_count": 8,
   "id": "9ff2aeb4-e134-4721-8ded-c22ab954d15c",
   "metadata": {},
   "outputs": [
    {
     "data": {
      "text/plain": [
       "'Webmaster@lewisu.edu'"
      ]
     },
     "execution_count": 8,
     "metadata": {},
     "output_type": "execute_result"
    }
   ],
   "source": [
    "pattern=r'[a-zA-Z0-9]+@[a-zA-Z]+\\.(com|edu|gov|net)'\n",
    "email=re.search(pattern,text_lwisu)\n",
    "email.group()"
   ]
  },
  {
   "cell_type": "code",
   "execution_count": 9,
   "id": "5e7e3d3f-f967-4535-8e4f-8beb9dede956",
   "metadata": {},
   "outputs": [
    {
     "data": {
      "text/plain": [
       "'Webmaster@lewisu.edu'"
      ]
     },
     "execution_count": 9,
     "metadata": {},
     "output_type": "execute_result"
    }
   ],
   "source": [
    "pattern=r'[\\w+]+@[\\w\\.]+'\n",
    "email2=re.search(pattern,text_lwisu)\n",
    "email2.group()"
   ]
  },
  {
   "cell_type": "markdown",
   "id": "fe4445ea-fd18-4f37-8113-8ae18097561f",
   "metadata": {},
   "source": [
    "### Another example: ###\n",
    "<ul>\n",
    "<li>[\\w.-]+ → Matches usernames with letters, numbers, _, . and -.</li>\n",
    "<li>@[a-zA-Z]+ → Ensures the domain name has only alphabetic characters.</li>\n",
    "<li>\\\\.(?:com|edu|gov|net) → Uses (?: ... ) to make the group non-capturing, so the full email is returned.</li>\n",
    "</ul>"
   ]
  },
  {
   "cell_type": "code",
   "execution_count": 13,
   "id": "8b7ecdae-8cce-4f76-9305-9f30ac91ecf9",
   "metadata": {},
   "outputs": [
    {
     "name": "stdout",
     "output_type": "stream",
     "text": [
      "['jim304@lewisu.edu', 'khaled.alrfou@lewisu.edu', 'web_master@lewisu.edu']\n"
     ]
    }
   ],
   "source": [
    "patterns=r'[\\w.-]+@[a-zA-Z]+\\.(?:com|edu|gov|net)'\n",
    "text_email=\"\"\"Email1: jim304@lewisu.edu,\n",
    "Email2: khaled.alrfou@lewisu.edu\n",
    "Email3: web_master@lewisu.edu\n",
    "\"\"\"\n",
    "email3=re.findall(patterns,text_email)\n",
    "print(email3)"
   ]
  },
  {
   "cell_type": "markdown",
   "id": "d5100e20-a1d5-4a3b-8404-5e74b2a09d6f",
   "metadata": {},
   "source": [
    "### ^[\\w] match at the begning of the word ###\n",
    "\\b → Ensures the match starts at a word boundary.\n",
    "\n",
    "\\w* → Matches any following word characters (letters, digits, underscore) until the word ends."
   ]
  },
  {
   "cell_type": "code",
   "execution_count": 229,
   "id": "b781875a-1fdd-4c13-b11d-bff449fd2154",
   "metadata": {},
   "outputs": [
    {
     "data": {
      "text/plain": [
       "['The', 'this']"
      ]
     },
     "execution_count": 229,
     "metadata": {},
     "output_type": "execute_result"
    }
   ],
   "source": [
    "sent2=\"\"\"The best programming language for NLP is Python.\n",
    "While other programming languages can be used in NLP, this course will focus exclusively on Python implementations.\"\"\"\n",
    "re.findall(r\"\\b[Tt]\\w*\",sent2)\n",
    "#re.findall(r\"\\b[Tt]\\w{2}\\b\",sent2)"
   ]
  },
  {
   "attachments": {},
   "cell_type": "markdown",
   "id": "969d7043-e4ee-483e-9027-3f2b4d53a86f",
   "metadata": {},
   "source": [
    "### [^\\w] Not alphanumeric ### "
   ]
  },
  {
   "cell_type": "code",
   "execution_count": 237,
   "id": "7cfe0408-8f0e-411c-9c39-d9e48dc7ac55",
   "metadata": {},
   "outputs": [
    {
     "data": {
      "text/plain": [
       "' best  programming  language  for  NLP  is  Python  other  programming  languages  can  be  used  in  NLP  course  will  focus  exclusively  on  Python  implementations'"
      ]
     },
     "execution_count": 237,
     "metadata": {},
     "output_type": "execute_result"
    }
   ],
   "source": [
    "matchall=re.findall(r\"\\b[^th\\w]\\w+\",sent2)\n",
    "\" \".join(matchall)"
   ]
  },
  {
   "attachments": {},
   "cell_type": "markdown",
   "id": "20cdeb49-8799-42c0-99d2-2601ee69f584",
   "metadata": {},
   "source": [
    "### `.$` and `\\.$` ###\n",
    "`.$`: Matches any single character (except a newline) at the end of a string. \n",
    "\n",
    "`\\.$`: Matches a dot (.) only if it appears at the end of a string."
   ]
  },
  {
   "cell_type": "code",
   "execution_count": 185,
   "id": "07053e00-6a71-493b-9b1f-50651e947aa4",
   "metadata": {},
   "outputs": [
    {
     "data": {
      "text/plain": [
       "'.'"
      ]
     },
     "execution_count": 185,
     "metadata": {},
     "output_type": "execute_result"
    }
   ],
   "source": [
    "sent4=\"The end.\"\n",
    "mat=re.search(r'\\.$', sent4)\n",
    "mat.group()"
   ]
  },
  {
   "cell_type": "code",
   "execution_count": 191,
   "id": "f743a0f4-ad85-49f1-8b97-295aeef5ea95",
   "metadata": {},
   "outputs": [
    {
     "data": {
      "text/plain": [
       "'end?'"
      ]
     },
     "execution_count": 191,
     "metadata": {},
     "output_type": "execute_result"
    }
   ],
   "source": [
    "sent4=\"The end. is this the end?\"\n",
    "matt=re.search(r'\\w+.$', sent4)\n",
    "matt.group()"
   ]
  },
  {
   "cell_type": "code",
   "execution_count": null,
   "id": "da967367-ca8f-4cc5-8bd0-7c5b2f9a3ad0",
   "metadata": {},
   "outputs": [],
   "source": []
  },
  {
   "attachments": {},
   "cell_type": "markdown",
   "id": "ece76a59-24b6-4b65-9cf8-5f808f006127",
   "metadata": {},
   "source": [
    "# False positives and false negatives #\n",
    "The process we just went through was based on fixing two kinds of errors:\n",
    "\n",
    "Not matching things that we should have matched (The)\n",
    "False negatives\n",
    "\n",
    "Matching strings that we should not have matched (there, then, other)\n",
    "False positives\n"
   ]
  },
  {
   "cell_type": "code",
   "execution_count": 213,
   "id": "bf12eba7-41be-4056-bb78-f9c7d2aeb7b6",
   "metadata": {},
   "outputs": [
    {
     "name": "stdout",
     "output_type": "stream",
     "text": [
      "this is the type of False positive:  ['The', 'the', 'There', 'the', 'ther']\n",
      "this is the type of False negative:  ['the', 'the']\n"
     ]
    }
   ],
   "source": [
    "senFpFn=\"The quick brown fox jumped over the lazy dog. There was a time when the weather was nice.\"\n",
    "fp=re.findall(r'[tT]he\\w*', senFpFn)\n",
    "\n",
    "print(\"this is the type of False positive: \",fp)\n",
    "\n",
    "fn=re.findall(r'\\bthe\\b',senFpFn)\n",
    "print(\"this is the type of False negative: \",fn)"
   ]
  },
  {
   "cell_type": "code",
   "execution_count": 215,
   "id": "f8126314-1d8d-45cb-9099-e641fc46da4f",
   "metadata": {},
   "outputs": [
    {
     "name": "stdout",
     "output_type": "stream",
     "text": [
      "['The', 'the', 'the']\n"
     ]
    }
   ],
   "source": [
    "correct=re.findall(r'[Tt]he\\b',senFpFn)\n",
    "print(correct)"
   ]
  },
  {
   "attachments": {},
   "cell_type": "markdown",
   "id": "dba6188c-2ebf-4b83-9ed0-d1a2dfc46d65",
   "metadata": {},
   "source": [
    "### **Error Tradeoff in NLP: Precision vs. Recall**\n",
    "In NLP we are always dealing with these kinds of errors.\n",
    "Reducing the error rate for an application often involves two antagonistic efforts: \n",
    "\n",
    "\n",
    "1. **False Negative Rate (Missed Matches)**:\n",
    "  $\n",
    "   \\text{False Negative Rate} = \\frac{\\text{False Negatives}}{\\text{True Positives} + \\text{False Negatives}}\n",
    "  $\n",
    "\n",
    "2. **False Positive Rate (Incorrect Matches)**:\n",
    "   $\n",
    "   \\text{False Positive Rate} = \\frac{\\text{False Positives}}{\\text{True Negatives} + \\text{False Positives}}\n",
    "   $\n",
    "\n",
    "   ### Increasing accuracy (or precision) (minimizing false positives) ###\n",
    "\n",
    "\n",
    "4. **Precision (Accuracy of Matches)**:\n",
    "   $\n",
    "   \\text{Precision} = \\frac{\\text{True Positives}}{\\text{True Positives} + \\text{False Positives}}\n",
    "   $\n",
    "### Increasing coverage (or recall) (minimizing false negatives) ###\n",
    "\n",
    "4. **Recall (Coverage of Matches)**:\n",
    "   $\n",
    "   \\text{Recall} = \\frac{\\text{True Positives}}{\\text{True Positives} + \\text{False Negatives}}\n",
    "   $\n"
   ]
  }
 ],
 "metadata": {
  "kernelspec": {
   "display_name": "Python 3 (ipykernel)",
   "language": "python",
   "name": "python3"
  },
  "language_info": {
   "codemirror_mode": {
    "name": "ipython",
    "version": 3
   },
   "file_extension": ".py",
   "mimetype": "text/x-python",
   "name": "python",
   "nbconvert_exporter": "python",
   "pygments_lexer": "ipython3",
   "version": "3.11.9"
  }
 },
 "nbformat": 4,
 "nbformat_minor": 5
}

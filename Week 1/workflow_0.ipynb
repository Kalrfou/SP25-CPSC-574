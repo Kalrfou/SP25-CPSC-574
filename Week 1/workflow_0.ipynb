{
 "cells": [
  {
   "cell_type": "code",
   "execution_count": 1,
   "id": "ea98ddfd-80be-47bc-a019-813977a306b6",
   "metadata": {},
   "outputs": [
    {
     "name": "stdout",
     "output_type": "stream",
     "text": [
      "hello\n"
     ]
    }
   ],
   "source": [
    "print(\"hello\")"
   ]
  },
  {
   "cell_type": "code",
   "execution_count": 2,
   "id": "b14cea4c-cd5f-4147-bb64-6afd37657f94",
   "metadata": {},
   "outputs": [
    {
     "name": "stdout",
     "output_type": "stream",
     "text": [
      "*** Introductory Examples for the NLTK Book ***\n",
      "Loading text1, ..., text9 and sent1, ..., sent9\n",
      "Type the name of the text or sentence to view it.\n",
      "Type: 'texts()' or 'sents()' to list the materials.\n",
      "text1: Moby Dick by Herman Melville 1851\n",
      "text2: Sense and Sensibility by Jane Austen 1811\n",
      "text3: The Book of Genesis\n",
      "text4: Inaugural Address Corpus\n",
      "text5: Chat Corpus\n",
      "text6: Monty Python and the Holy Grail\n",
      "text7: Wall Street Journal\n",
      "text8: Personals Corpus\n",
      "text9: The Man Who Was Thursday by G . K . Chesterton 1908\n"
     ]
    }
   ],
   "source": [
    "from nltk.book import *"
   ]
  },
  {
   "cell_type": "code",
   "execution_count": 3,
   "id": "8c3e14e2-c6b5-4dac-be30-9078517a5f2d",
   "metadata": {},
   "outputs": [
    {
     "data": {
      "text/plain": [
       "156288"
      ]
     },
     "execution_count": 3,
     "metadata": {},
     "output_type": "execute_result"
    }
   ],
   "source": [
    "len(text4)"
   ]
  },
  {
   "cell_type": "code",
   "execution_count": 4,
   "id": "b8696103-d230-479b-8832-2372e7c68a19",
   "metadata": {},
   "outputs": [
    {
     "data": {
      "text/plain": [
       "10200"
      ]
     },
     "execution_count": 4,
     "metadata": {},
     "output_type": "execute_result"
    }
   ],
   "source": [
    "len(set(text4))"
   ]
  },
  {
   "cell_type": "code",
   "execution_count": 5,
   "id": "e46a9d7f-3619-4b3e-aba8-0faa13cb66c8",
   "metadata": {},
   "outputs": [],
   "source": [
    "un_words=set()"
   ]
  },
  {
   "cell_type": "code",
   "execution_count": 7,
   "id": "bc1ea370-4096-4507-a026-7827089663fa",
   "metadata": {},
   "outputs": [],
   "source": [
    "for word in text4:\n",
    "    un_words.add(word.lower())"
   ]
  },
  {
   "cell_type": "code",
   "execution_count": 8,
   "id": "b3c26810-6cac-4e6a-81d1-4fd6c50069ff",
   "metadata": {},
   "outputs": [
    {
     "data": {
      "text/plain": [
       "9470"
      ]
     },
     "execution_count": 8,
     "metadata": {},
     "output_type": "execute_result"
    }
   ],
   "source": [
    "len(un_words)"
   ]
  },
  {
   "cell_type": "code",
   "execution_count": 9,
   "id": "b6e9dacb-912d-4048-b9dd-45a167604cfc",
   "metadata": {},
   "outputs": [
    {
     "data": {
      "text/plain": [
       "9470"
      ]
     },
     "execution_count": 9,
     "metadata": {},
     "output_type": "execute_result"
    }
   ],
   "source": [
    "len(set(word.lower() for word in text4))"
   ]
  },
  {
   "cell_type": "code",
   "execution_count": 10,
   "id": "526f81a9-f047-4e1c-b20c-93f524c42713",
   "metadata": {},
   "outputs": [
    {
     "data": {
      "text/plain": [
       "9354"
      ]
     },
     "execution_count": 10,
     "metadata": {},
     "output_type": "execute_result"
    }
   ],
   "source": [
    "len(set(word.lower() for word in text4 if word.isalpha()))"
   ]
  },
  {
   "cell_type": "code",
   "execution_count": 11,
   "id": "c8f56cd0-ea61-40c4-9c7c-2fc965b1ff93",
   "metadata": {},
   "outputs": [
    {
     "data": {
      "text/plain": [
       "FreqDist({'the': 10321, ',': 7499, 'of': 7276, 'and': 5553, '.': 5186, 'to': 4688, 'in': 2858, 'a': 2344, 'our': 2295, 'we': 1924, ...})"
      ]
     },
     "execution_count": 11,
     "metadata": {},
     "output_type": "execute_result"
    }
   ],
   "source": [
    "fdist=FreqDist(word.lower() for word in text4)\n",
    "fdist"
   ]
  },
  {
   "cell_type": "code",
   "execution_count": 12,
   "id": "2d94a29e-7a7a-40ba-aeef-245a1ea1141b",
   "metadata": {},
   "outputs": [
    {
     "data": {
      "text/plain": [
       "[('the', 10321),\n",
       " (',', 7499),\n",
       " ('of', 7276),\n",
       " ('and', 5553),\n",
       " ('.', 5186),\n",
       " ('to', 4688),\n",
       " ('in', 2858),\n",
       " ('a', 2344),\n",
       " ('our', 2295),\n",
       " ('we', 1924),\n",
       " ('that', 1859),\n",
       " ('be', 1545),\n",
       " ('is', 1519),\n",
       " ('it', 1427),\n",
       " ('for', 1247),\n",
       " ('by', 1104),\n",
       " ('have', 1050),\n",
       " ('will', 1037),\n",
       " ('which', 1009),\n",
       " ('not', 996)]"
      ]
     },
     "execution_count": 12,
     "metadata": {},
     "output_type": "execute_result"
    }
   ],
   "source": [
    "fdist.most_common(20)"
   ]
  },
  {
   "cell_type": "code",
   "execution_count": 13,
   "id": "2be3f81a-1161-4686-82dc-d8ef7744bfbb",
   "metadata": {},
   "outputs": [
    {
     "data": {
      "text/plain": [
       "192"
      ]
     },
     "execution_count": 13,
     "metadata": {},
     "output_type": "execute_result"
    }
   ],
   "source": [
    "fdist[\"freedom\"]"
   ]
  },
  {
   "cell_type": "code",
   "execution_count": 14,
   "id": "85afe15a-a9c4-4627-b4a2-0c71a0fa64e9",
   "metadata": {},
   "outputs": [
    {
     "data": {
      "text/plain": [
       "FreqDist({'I': 915, 'The': 645, 'We': 583, 'It': 370, 'States': 338, 'Government': 335, 'America': 258, 'In': 229, 'Constitution': 201, 'And': 197, ...})"
      ]
     },
     "execution_count": 14,
     "metadata": {},
     "output_type": "execute_result"
    }
   ],
   "source": [
    "fdist1= FreqDist(word for word in text4 if word.istitle())\n",
    "fdist1"
   ]
  },
  {
   "cell_type": "code",
   "execution_count": 16,
   "id": "3326f4b3-b8ab-4c9c-accc-e9f552bd3878",
   "metadata": {},
   "outputs": [
    {
     "data": {
      "text/plain": [
       "FreqDist({3: 30429, 2: 28843, 4: 19736, 1: 17919, 5: 13900, 6: 11323, 7: 10571, 8: 7633, 9: 5910, 10: 4872, ...})"
      ]
     },
     "execution_count": 16,
     "metadata": {},
     "output_type": "execute_result"
    }
   ],
   "source": [
    "fdist2=FreqDist(len(word) for word in text4)\n",
    "fdist2"
   ]
  },
  {
   "cell_type": "code",
   "execution_count": 17,
   "id": "510cd494-a663-4d39-b0bb-0d4431c33b49",
   "metadata": {},
   "outputs": [
    {
     "data": {
      "text/plain": [
       "FreqDist({5: 2, 6: 1, 2: 1, 3: 1})"
      ]
     },
     "execution_count": 17,
     "metadata": {},
     "output_type": "execute_result"
    }
   ],
   "source": [
    "example=[\"hello\",\"world\", \"Python\",\"is\",\"fun\"]\n",
    "fdist3=FreqDist( len(w) for w in example)\n",
    "fdist3"
   ]
  },
  {
   "cell_type": "code",
   "execution_count": 18,
   "id": "3fce2c2a-49ed-47e2-9ec8-61a578e72b27",
   "metadata": {},
   "outputs": [
    {
     "data": {
      "text/plain": [
       "[(3, 30429),\n",
       " (2, 28843),\n",
       " (4, 19736),\n",
       " (1, 17919),\n",
       " (5, 13900),\n",
       " (6, 11323),\n",
       " (7, 10571),\n",
       " (8, 7633),\n",
       " (9, 5910),\n",
       " (10, 4872),\n",
       " (11, 2516),\n",
       " (12, 1449),\n",
       " (13, 636),\n",
       " (14, 410),\n",
       " (15, 79),\n",
       " (16, 52),\n",
       " (17, 10)]"
      ]
     },
     "execution_count": 18,
     "metadata": {},
     "output_type": "execute_result"
    }
   ],
   "source": [
    "fdist2.most_common(20)"
   ]
  },
  {
   "cell_type": "code",
   "execution_count": 19,
   "id": "fd33493c-0bfb-4194-a9bc-60e5e2c840e6",
   "metadata": {},
   "outputs": [
    {
     "data": {
      "text/plain": [
       "3"
      ]
     },
     "execution_count": 19,
     "metadata": {},
     "output_type": "execute_result"
    }
   ],
   "source": [
    "fdist2.max()"
   ]
  },
  {
   "cell_type": "code",
   "execution_count": 20,
   "id": "eddacf5d-c0fc-4159-8372-358865abd021",
   "metadata": {},
   "outputs": [
    {
     "data": {
      "text/plain": [
       "['RESPONSIBILITIES',\n",
       " 'antiphilosophists',\n",
       " 'constitutionally',\n",
       " 'contradistinction',\n",
       " 'discountenancing',\n",
       " 'disqualification',\n",
       " 'enthusiastically',\n",
       " 'instrumentalities',\n",
       " 'internationality',\n",
       " 'irresponsibility',\n",
       " 'misappropriation',\n",
       " 'misrepresentation',\n",
       " 'misunderstanding',\n",
       " 'responsibilities',\n",
       " 'sentimentalizing',\n",
       " 'transcontinental',\n",
       " 'uncharitableness',\n",
       " 'unconstitutional']"
      ]
     },
     "execution_count": 20,
     "metadata": {},
     "output_type": "execute_result"
    }
   ],
   "source": [
    "v=set(text4)\n",
    "long_words=[word for word in v if len(word)>15]\n",
    "sorted(long_words)"
   ]
  },
  {
   "cell_type": "markdown",
   "id": "6ad1b8b5-6f33-4703-9546-b3ec50c3396a",
   "metadata": {},
   "source": [
    "# Example 2 ##\n",
    "\n",
    "We will focus on text preprocessing in NLP using Python’s NLTK library.\n",
    "\n",
    "We’ll cover fundamental techniques such as tokenization, stemming, lemmatization, and handling contractions."
   ]
  },
  {
   "cell_type": "markdown",
   "id": "1cf0c51a-c9e6-44dc-bab1-9b58d5d8840e",
   "metadata": {},
   "source": [
    "## Text Processing Steps\n",
    "\n",
    "| Step | Process | Example Transformation |\n",
    "|------|---------|------------------------|\n",
    "| 1 | Read File | Loads text into `news_text` | \"The quick brown fox.\" |\n",
    "| 2 | Sentence Tokenization | Splits text into sentences | [\"The quick brown fox.\", \"It jumps over.\"] |\n",
    "| 3 | Extract Sentence | Selects sentence at index 39 | \"It jumps over.\" |\n",
    "| 4 | Expand Contractions | \"don't\" → \"do not\" | \"It does not jump over.\" |\n",
    "| 5 | Tokenization | Splits sentence into words | [\"It\", \"does\", \"not\", \"jump\", \"over\", \".\"] |\n",
    "| 6 | Lowercase | Converts to lowercase | [\"it\", \"does\", \"not\", \"jump\", \"over\", \".\"] |\n",
    "| 7 | Remove Punctuation | Removes \".\" | [\"it\", \"does\", \"not\", \"jump\", \"over\"] |\n",
    "| 8 | Stemming (Porter) | \"jumping\" → \"jump\" | [\"it\", \"doe\", \"not\", \"jump\", \"over\"] |\n",
    "| 9 | Stemming (Lancaster) | More aggressive stemming | [\"it\", \"do\", \"not\", \"jump\", \"ov\"] |\n",
    "| 10 | Lemmatization | \"better\" → \"good\" | [\"it\", \"do\", \"not\", \"jump\", \"over\"] |"
   ]
  },
  {
   "cell_type": "code",
   "execution_count": 44,
   "id": "f839a9e3-0103-4d50-affa-211c18c17e0e",
   "metadata": {},
   "outputs": [
    {
     "name": "stdout",
     "output_type": "stream",
     "text": [
      "After days of living in the dark in crude conditions, millions of Texans had their power restored on Thursday, bringing some relief amid the arctic blast that brought the state's water and power infrastructure to its knees. Early in the morning nearly a half-million residents were without electricity but by midday, just under 350,000 remained without power, according PowerOutage.us, which tracks outages across the country.\n",
      "The Electric Reliability Council of Texas, which manages most of the state power grid, said Thursday morning it had \"made significant progress overnight restoring customer power, although some outages still remain throughout the state.\" However, ERCOT noted that despite bringing the lights back on, energy emergency conditions remain as the grid operator and transmission owners work to restore the remaining customers that are without power.\n",
      "\"We're to the point in the load restoration where we are allowing transmission owners to bring back any load they can related to this load shed event,\" said ERCOT Senior Director of System Operations Dan Woodfin.\"We will keep working around the clock until every single customer has their power back on,\" Woodfin said. Areas where distribution systems were damaged by ice storms may still be experiencing loss of power, according to ERCOT. Additionally, large industrial facilities that voluntarily went offline to help alleviate pressure on the overloaded power grid may also remain without power.\n",
      "In Houston, more than 99% of CenterPoint Energy customers have regained power. But the company is still urging residents to be cautious.\n",
      "\"As we continue repairing equipment damaged by severe weather, we ask that you continue conserving electricity - lower your thermostat & avoid using appliances,\" CenterPoint Energy tweeted.\n",
      "As of 5 p.m. local time, approximately 20,000 outages remained\n",
      "Some 7 million residents of Houston, Arlington, Fort Worth and Tyler have been ordered to boil their drinking water after the outages knocked treatment plants offline. Statewide, water pressure has fallen because of frozen lines, Toby Baker, executive director of the Texas Commission on Environmental Quality said.\n",
      "Speaking to NPR's Morning Edition on Thursday, the mayor of Mansfield, Texas, Michael Evans, described the crisis in the state as \"life or death.\"\n",
      "\n",
      "\"We have been caught in the middle of something here where there have been individuals who have not had electricity or power for about 3 1/2 days now [and] it's zero degrees,\" Evans said of Mansfield, a suburb in the Dallas-Fort Worth area.\n",
      "\n",
      "He said neighbors and churches have pitched in to help people whose homes have no electricity, despite concern over the ongoing COVID-19 pandemic.\n",
      "\n",
      "\"I was talking with a family yesterday, and they just knew these people, the temperature in their home was 32 degrees,\" Evans said. \"So what they did was they brought the people in, and they all had their masks and gloves on and the individuals in one side of the house while they were on the other side of the house.\"\n",
      "\n",
      "Texas Gov. Greg Abbott, speaking Wednesday in Austin, called on top executives at the state's grid operator to resign over the outages. \"Every source of power the state of Texas has access to has been compromised because of the ultra-cold temperature or because of the equipment failures,\" he said.\n",
      "\n",
      "Nationwide, more than 30 deaths have been blamed on the weather this week â€” some who died trying to stay warm in their homes. One family in Houston succumbed to carbon monoxide poisoning from car exhaust in their garage. In another Houston suburb, a grandmother and three of her grandchildren died in a house fire. Although the cause of the fire has yet to be determined, the Houston Chronicle reports that they had been using a fireplace to keep warm after their electricity went out.\n",
      "\n",
      "The National Weather Service had winter storm warnings in effect in Texas from San Antonio west to the U.S.-Mexico border. Starting on the other side of the state, an unbroken band of warnings also extended for hundreds of miles through northern Louisiana, central Arkansas, parts of Mississippi, Tennessee, Kentucky, North Carolina, Virginia, West Virginia, western Maryland, Pennsylvania and New Jersey.\n",
      "\n",
      "Heavy snow and ice are expected Thursday in the Appalachians, northern Maryland and southern Pennsylvania, the National Weather Service said.\n",
      "\n",
      "Meanwhile, in Oregon, where winter weather advisories still cover much of the state, more than 100,000 customers were still without electricity a week after outages began. The Associated Press reports that a Portland supermarket that had been without electricity tossed perishable food into dumpsters, leading to a clash between scavengers and police.\n",
      "\n",
      "\"These are the most dangerous conditions we've ever seen in the history of PGE,\" said Dale Goodman, director of utility operations at Portland General Electric. He declined to predict when all customers would have power restored, the AP said.\n",
      "\n",
      "Louisiana Gov. John Bel Edwards requested a presidential emergency declaration on Wednesday evening.\n",
      "\n",
      "In Shreveport, La., local officials were warning residents that it might be Saturday before water service, cut off due to the winter storms, is fully restored. In Lake Charles, in Louisiana's southwest, Mayor Nic Hunter said Wednesday that water was scarce and that hospitals there might need to transfer patients out.'\n",
      "\n",
      "Arkansas State Police said Wednesday afternoon that there had been 22 weather-related road accidents along a 30-mile stretch of I-40, which runs through Little Rock.\n",
      "\n",
      "In Lexington, Ky., residents reported that with more snow and sleet expected, many side streets had yet to be cleared from earlier this week and attention was likely to shift again to major roads.\n",
      "\n",
      "\"The roads look like they haven't even been touched,\" resident Stacy Hoskins told WKYT News. \"[If] you haven't been out clearing already then you're not going anywhere.\"\n"
     ]
    }
   ],
   "source": [
    "f=open(\"data/news.txt\",\"r\")\n",
    "news_text=f.read()\n",
    "print(news_text)"
   ]
  },
  {
   "cell_type": "code",
   "execution_count": 35,
   "id": "d01036f7-382e-46ea-b789-7ab9114fc35c",
   "metadata": {},
   "outputs": [],
   "source": [
    "import nltk\n",
    "from nltk import sent_tokenize"
   ]
  },
  {
   "cell_type": "code",
   "execution_count": 45,
   "id": "197d71e6-e687-4a82-a822-c8095a0eec08",
   "metadata": {},
   "outputs": [
    {
     "data": {
      "text/plain": [
       "40"
      ]
     },
     "execution_count": 45,
     "metadata": {},
     "output_type": "execute_result"
    }
   ],
   "source": [
    "sentences=sent_tokenize(news_text)\n",
    "len(senctences)"
   ]
  },
  {
   "cell_type": "code",
   "execution_count": 38,
   "id": "a83d75b4-0e34-48fa-a240-0a4337577a17",
   "metadata": {},
   "outputs": [],
   "source": [
    "import contractions"
   ]
  },
  {
   "cell_type": "code",
   "execution_count": 47,
   "id": "153113d9-00b5-4593-917a-293cd8d82f64",
   "metadata": {},
   "outputs": [
    {
     "name": "stdout",
     "output_type": "stream",
     "text": [
      "\"[If] you haven't been out clearing already then you're not going anywhere.\"\n"
     ]
    }
   ],
   "source": [
    "text=senctences[39]\n",
    "print(text)"
   ]
  },
  {
   "cell_type": "code",
   "execution_count": 48,
   "id": "2e0d13a1-57de-4da3-936f-1b40a50f4881",
   "metadata": {},
   "outputs": [],
   "source": [
    "text_no_contract=[contractions.fix(word) for word in text.split()]\n",
    "text= \" \".join(text_no_contract)"
   ]
  },
  {
   "cell_type": "code",
   "execution_count": 49,
   "id": "7f645d6b-b02c-478f-8f5f-5a836a1c4337",
   "metadata": {},
   "outputs": [
    {
     "name": "stdout",
     "output_type": "stream",
     "text": [
      "\"[If] you have not been out clearing already then you are not going anywhere.\"\n"
     ]
    }
   ],
   "source": [
    "print(text)"
   ]
  },
  {
   "cell_type": "code",
   "execution_count": 50,
   "id": "098ccf3d-3365-4034-8e36-99615076a896",
   "metadata": {},
   "outputs": [],
   "source": [
    "from nltk import word_tokenize"
   ]
  },
  {
   "cell_type": "code",
   "execution_count": 51,
   "id": "ebb4ef92-ebef-4895-b59f-abb1801c4f08",
   "metadata": {},
   "outputs": [
    {
     "name": "stdout",
     "output_type": "stream",
     "text": [
      "['``', '[', 'If', ']', 'you', 'have', 'not', 'been', 'out', 'clearing', 'already', 'then', 'you', 'are', 'not', 'going', 'anywhere', '.', \"''\"]\n"
     ]
    }
   ],
   "source": [
    "tokens=word_tokenize(text)\n",
    "print(tokens)"
   ]
  },
  {
   "cell_type": "code",
   "execution_count": 52,
   "id": "0d6af2e0-2d6d-4524-8cdb-63fe08ab4b68",
   "metadata": {},
   "outputs": [
    {
     "name": "stdout",
     "output_type": "stream",
     "text": [
      "['``', '[', 'if', ']', 'you', 'have', 'not', 'been', 'out', 'clearing', 'already', 'then', 'you', 'are', 'not', 'going', 'anywhere', '.', \"''\"]\n"
     ]
    }
   ],
   "source": [
    "lower=[t.lower() for t in tokens]\n",
    "print(lower)"
   ]
  },
  {
   "cell_type": "code",
   "execution_count": 54,
   "id": "f0508bb7-0b71-499e-ab4e-fb422207bad0",
   "metadata": {},
   "outputs": [
    {
     "name": "stdout",
     "output_type": "stream",
     "text": [
      "['``', 'if', 'you', 'have', 'not', 'been', 'out', 'clearing', 'already', 'then', 'you', 'are', 'not', 'going', 'anywhere', \"''\"]\n"
     ]
    }
   ],
   "source": [
    "import string\n",
    "punc = string.punctuation\n",
    "no_punc= [word for word in lower if word not in punc]\n",
    "print(no_punc)"
   ]
  },
  {
   "cell_type": "code",
   "execution_count": 56,
   "id": "77644948-c2a6-4111-a5e0-4eef1fff4f85",
   "metadata": {},
   "outputs": [
    {
     "name": "stdout",
     "output_type": "stream",
     "text": [
      "['``', 'if', 'you', 'have', 'not', 'been', 'out', 'clear', 'alreadi', 'then', 'you', 'are', 'not', 'go', 'anywher', \"''\"]\n"
     ]
    }
   ],
   "source": [
    "porter = nltk.PorterStemmer()\n",
    "stem1 = [porter.stem(t) for t in no_punc]\n",
    "print(stem1)"
   ]
  },
  {
   "cell_type": "code",
   "execution_count": 57,
   "id": "e4c5eb90-709a-43af-8dfd-900888f652ea",
   "metadata": {},
   "outputs": [
    {
     "name": "stdout",
     "output_type": "stream",
     "text": [
      "['``', 'if', 'you', 'have', 'not', 'been', 'out', 'clearing', 'already', 'then', 'you', 'are', 'not', 'going', 'anywhere', \"''\"]\n"
     ]
    }
   ],
   "source": [
    "wnl = nltk.WordNetLemmatizer()\n",
    "lemmat = [wnl.lemmatize(t) for t in no_punc]\n",
    "print(lemmat)"
   ]
  },
  {
   "cell_type": "code",
   "execution_count": null,
   "id": "f6a294e4-d3b8-4ef0-8006-2237d2510b9a",
   "metadata": {},
   "outputs": [],
   "source": [
    "from nltk.corpus import stopwords"
   ]
  },
  {
   "cell_type": "code",
   "execution_count": 58,
   "id": "e6a9ea3d-3c66-4740-9e29-638530cb2208",
   "metadata": {},
   "outputs": [
    {
     "name": "stdout",
     "output_type": "stream",
     "text": [
      "['``', 'clearing', 'already', 'going', 'anywhere', \"''\"]\n"
     ]
    }
   ],
   "source": [
    "from nltk.corpus import stopwords\n",
    "stop_words = set(stopwords.words('english'))\n",
    "text_no_stop=[word for word in no_punc if word not in stop_words]\n",
    "print(text_no_stop)"
   ]
  },
  {
   "cell_type": "code",
   "execution_count": 59,
   "id": "b396de96-3601-445f-b5bc-182d3abb36a8",
   "metadata": {},
   "outputs": [
    {
     "name": "stdout",
     "output_type": "stream",
     "text": [
      "{'once', 'under', 'do', \"needn't\", 'she', 'their', \"shan't\", \"i've\", 'over', \"isn't\", \"they'll\", 'ourselves', \"i'm\", 'he', 'hasn', 'it', 'itself', 'such', 'hers', 'but', 'few', 'to', 'more', 'does', \"hadn't\", 'who', 'nor', \"we've\", \"we'll\", 'or', 'herself', 'shouldn', \"you've\", 'during', 'further', 'himself', 'have', 'than', 'can', \"hasn't\", \"it'd\", 'just', 'all', 'while', \"she'd\", \"weren't\", 'has', 'down', \"shouldn't\", 'didn', 'most', 'aren', 'haven', \"she's\", \"he'd\", 'each', 'too', 'mightn', 'not', 'which', 'up', 'my', \"should've\", \"haven't\", 'are', 'in', \"wouldn't\", 'doesn', 'here', 'off', 'did', 'isn', \"won't\", 'yours', 'until', 'be', 'been', 'don', 'him', 'between', 'now', 'your', 'm', 'wasn', 't', 'needn', 'themselves', \"she'll\", 'is', 'they', 'no', \"we're\", 'how', 'myself', 'very', 'you', 'after', 'being', 'hadn', 'both', 'out', 'because', 're', 'were', 'weren', 'below', 'was', 'am', \"mightn't\", 'y', 'its', 'couldn', 'we', 'what', 'then', \"you'd\", 'when', \"he's\", 'about', \"i'd\", 'yourselves', 'own', \"mustn't\", \"aren't\", 'will', 'at', 'if', \"i'll\", 'a', 'again', 'and', 'ours', 'wouldn', 'into', 'why', 'me', 'an', \"doesn't\", 'from', 'her', 'of', 'should', 'theirs', 'same', 'only', 'won', 'whom', \"they'd\", 'before', \"it'll\", \"you'll\", 'with', \"he'll\", \"it's\", 'there', 'll', \"you're\", 've', \"we'd\", \"didn't\", 'other', 'having', \"that'll\", 'these', 'for', 'those', 'had', 'his', \"wasn't\", 'any', \"they're\", 'by', 'ma', 'against', 'as', 'on', 'ain', \"don't\", \"couldn't\", 'mustn', 'our', 'through', 'shan', 'so', 'some', 'o', 'that', 'this', 'above', \"they've\", 'where', 's', 'doing', 'd', 'i', 'the', 'yourself', 'them'}\n"
     ]
    }
   ],
   "source": [
    "print(stop_words)"
   ]
  },
  {
   "cell_type": "code",
   "execution_count": null,
   "id": "be60f624-b61c-4046-8288-98f6af01e4e2",
   "metadata": {},
   "outputs": [],
   "source": []
  }
 ],
 "metadata": {
  "kernelspec": {
   "display_name": "Python 3 (ipykernel)",
   "language": "python",
   "name": "python3"
  },
  "language_info": {
   "codemirror_mode": {
    "name": "ipython",
    "version": 3
   },
   "file_extension": ".py",
   "mimetype": "text/x-python",
   "name": "python",
   "nbconvert_exporter": "python",
   "pygments_lexer": "ipython3",
   "version": "3.11.9"
  }
 },
 "nbformat": 4,
 "nbformat_minor": 5
}
